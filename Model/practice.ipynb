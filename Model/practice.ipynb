{
 "cells": [
  {
   "cell_type": "code",
   "execution_count": 1,
   "metadata": {},
   "outputs": [
    {
     "name": "stderr",
     "output_type": "stream",
     "text": [
      "/tmp/ipykernel_460972/143797007.py:1: DeprecationWarning: \n",
      "Pyarrow will become a required dependency of pandas in the next major release of pandas (pandas 3.0),\n",
      "(to allow more performant data types, such as the Arrow string type, and better interoperability with other libraries)\n",
      "but was not found to be installed on your system.\n",
      "If this would cause problems for you,\n",
      "please provide us feedback at https://github.com/pandas-dev/pandas/issues/54466\n",
      "        \n",
      "  import pandas as pd\n"
     ]
    }
   ],
   "source": [
    "import pandas as pd \n",
    "\n",
    "train = pd.read_csv('/home/workspace/LGamiers/EDA/train.csv')\n",
    "test = pd.read_csv(\"/home/workspace/LGamiers/Model/submission.csv\")\n"
   ]
  },
  {
   "cell_type": "code",
   "execution_count": 21,
   "metadata": {},
   "outputs": [
    {
     "data": {
      "text/plain": [
       "product_category\n",
       "video wall signage                                                                                      667\n",
       "led signage                                                                                             641\n",
       "interactive signage                                                                                     406\n",
       "oled signage                                                                                            390\n",
       "standard signage                                                                                        325\n",
       "hotel tv                                                                                                259\n",
       "high brightness signage                                                                                 205\n",
       "special signage                                                                                          47\n",
       "signage care solution                                                                                    17\n",
       "monitor signage,monior/monitor tv                                                                        11\n",
       "smart tv signage                                                                                         10\n",
       "uhd signage                                                                                               9\n",
       "digital signage                                                                                           7\n",
       "monitor signage,commercial tv,solar,ess,monior/monitor tv,pc,projector,robot,system ac,ems,rac,chill      3\n",
       "tv signage                                                                                                3\n",
       "signage                                                                                                   2\n",
       "monitor signage,commercial tv,monior/monitor tv                                                           2\n",
       "signage care solutions                                                                                    2\n",
       "monitor signage,commercial tv,monior/monitor tv,tv                                                        1\n",
       "ultra stretch signage                                                                                     1\n",
       "monitor signage,commercial tv,monior/monitor tv,pc,tv,home beauty,audio/video                             1\n",
       "monitor signage,monior/monitor tv,tv,audio/video                                                          1\n",
       "monitor signage,commercial tv,monior/monitor tv,projector,tv                                              1\n",
       "monitor signage,tv                                                                                        1\n",
       "monitor signage,monior/monitor tv,vacuum cleaner,tv,home beauty,commercial tv,pc,refrigerator,styler      1\n",
       "Name: count, dtype: int64"
      ]
     },
     "execution_count": 21,
     "metadata": {},
     "output_type": "execute_result"
    }
   ],
   "source": [
    "# tv 관련이다. 이걸 묶어버릴까\n",
    "\n",
    "train[train['ver_pro'] == 1]['product_category'].value_counts()"
   ]
  },
  {
   "cell_type": "code",
   "execution_count": 6,
   "metadata": {},
   "outputs": [
    {
     "data": {
      "text/plain": [
       "customer_type\n",
       "End-Customer    1665\n",
       "End Customer     798\n",
       "End-user           4\n",
       "Name: count, dtype: int64"
      ]
     },
     "execution_count": 6,
     "metadata": {},
     "output_type": "execute_result"
    }
   ],
   "source": [
    "# 이건 우리가 처리한 것\n",
    "\n",
    "train[train['ver_cus'] == 1]['customer_type'].value_counts()"
   ]
  },
  {
   "cell_type": "code",
   "execution_count": 13,
   "metadata": {},
   "outputs": [],
   "source": [
    "import pandas as pd \n",
    "\n",
    "train = pd.read_csv('/home/workspace/LGamiers/EDA/train.csv')\n",
    "test = pd.read_csv(\"/home/workspace/LGamiers/Model/submission.csv\")\n",
    "\n",
    "def convert_value(df):\n",
    "\n",
    "    for idx in range(len(df)):\n",
    "        df[idx]\n",
    "    if value == 1:\n",
    "        return 'Converted'\n",
    "\n",
    "\n",
    "train['product_category'] = train['ver_pro'].apply(convert_value)"
   ]
  },
  {
   "cell_type": "code",
   "execution_count": 18,
   "metadata": {},
   "outputs": [
    {
     "data": {
      "text/plain": [
       "product_category\n",
       "interactive digital board                     6154\n",
       "vrf                                           5640\n",
       "multi-split                                   3674\n",
       "video wall signage                            2029\n",
       "etc.                                          2018\n",
       "                                              ... \n",
       "system ac                                        1\n",
       "sac                                              1\n",
       "gscd046                                          1\n",
       "43uh5f-h.awzm                                    1\n",
       "monior/monitor tv,refrigerator,audio/video       1\n",
       "Name: count, Length: 357, dtype: int64"
      ]
     },
     "execution_count": 18,
     "metadata": {},
     "output_type": "execute_result"
    }
   ],
   "source": [
    "train = pd.read_csv('/home/workspace/LGamiers/EDA/train.csv')\n",
    "test = pd.read_csv(\"/home/workspace/LGamiers/Model/submission.csv\")\n",
    "train['product_category'].value_counts()\n",
    "train.loc[train['ver_pro'] == 1, 'product_category'] = 'tv'"
   ]
  },
  {
   "cell_type": "code",
   "execution_count": 17,
   "metadata": {},
   "outputs": [
    {
     "data": {
      "text/plain": [
       "product_category\n",
       "interactive digital board                               6154\n",
       "vrf                                                     5640\n",
       "multi-split                                             3674\n",
       "tv                                                      3025\n",
       "etc.                                                    2018\n",
       "                                                        ... \n",
       "meeting & screen sharedirect view leddirect view led       1\n",
       "43uq751c0sb.bwz                                            1\n",
       "49uh / 49xf                                                1\n",
       "50us660h0sd.bwz                                            1\n",
       "monior/monitor tv,refrigerator,audio/video                 1\n",
       "Name: count, Length: 352, dtype: int64"
      ]
     },
     "execution_count": 17,
     "metadata": {},
     "output_type": "execute_result"
    }
   ],
   "source": [
    "train['product_category'].value_counts()"
   ]
  },
  {
   "cell_type": "code",
   "execution_count": null,
   "metadata": {},
   "outputs": [],
   "source": []
  }
 ],
 "metadata": {
  "kernelspec": {
   "display_name": "aimers",
   "language": "python",
   "name": "python3"
  },
  "language_info": {
   "codemirror_mode": {
    "name": "ipython",
    "version": 3
   },
   "file_extension": ".py",
   "mimetype": "text/x-python",
   "name": "python",
   "nbconvert_exporter": "python",
   "pygments_lexer": "ipython3",
   "version": "3.9.13"
  }
 },
 "nbformat": 4,
 "nbformat_minor": 2
}
