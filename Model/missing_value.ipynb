{
 "cells": [
  {
   "cell_type": "code",
   "execution_count": 56,
   "metadata": {},
   "outputs": [],
   "source": [
    "import pandas as pd\n",
    "import numpy as np\n",
    "from sklearn.metrics import (\n",
    "    accuracy_score,\n",
    "    confusion_matrix,\n",
    "    f1_score,\n",
    "    precision_score,\n",
    "    recall_score,\n",
    ")\n",
    "from sklearn.model_selection import train_test_split\n",
    "import random\n",
    "import os\n",
    "import warnings\n",
    "import matplotlib.pyplot as plt # 득점모델 변수 중요도\n",
    "import seaborn as sns\n",
    "\n",
    "warnings.filterwarnings(\"ignore\")\n",
    "train_path ='/home/workspace/LGamiers/EDA/train.csv'\n",
    "test_path = \"/home/workspace/LGamiers/Model/submission.csv\"\n",
    "\n",
    "def visual_df(train):\n",
    "    feature_selection = [f for f in train.columns if train[f].isnull().sum()<30000 and f != 'customer_country.1']\n",
    "    train = train[feature_selection]\n",
    "    feature_summary = pd.DataFrame(train.dtypes, columns=[\"Data Type\"])\n",
    "    feature_summary.reset_index(inplace=True)\n",
    "    feature_summary.rename(columns={'index': 'Feature 이름'}, inplace=True)\n",
    "    feature_summary['고유값 수'] = train.nunique().values\n",
    "    feature_summary['결측값 수'] = train.isnull().sum().values\n",
    "    return feature_summary\n",
    "    \n",
    "\n",
    "def seed_everything(seed=42):\n",
    "    random.seed(seed)\n",
    "    os.environ[\"PYTHONHASHSEED\"] = str(seed)\n",
    "    np.random.seed(seed)\n",
    "    \n",
    "seed_everything()\n",
    "\n",
    "def get_clf_eval(y_test, y_pred=None):\n",
    "\n",
    "    confusion = confusion_matrix(y_test, y_pred, labels=[True, False])\n",
    "    accuracy = accuracy_score(y_test, y_pred)\n",
    "    precision = precision_score(y_test, y_pred, labels=[True, False])\n",
    "    recall = recall_score(y_test, y_pred)\n",
    "    F1 = f1_score(y_test, y_pred, labels=[True, False])\n",
    "\n",
    "    print(\"오차행렬:\\n\", confusion)\n",
    "    print(\"\\n정확도: {:.4f}\".format(accuracy))\n",
    "    print(\"정밀도: {:.4f}\".format(precision))\n",
    "    print(\"재현율: {:.4f}\".format(recall))\n",
    "    print(\"F1: {:.4f}\".format(F1))\n",
    "\n",
    "def label_encoding(series):\n",
    "    # \"\"\"범주형 데이터를 시리즈 형태로 받아 숫자형 데이터로 변환합니다.\"\"\"\n",
    "\n",
    "    my_dict = {}\n",
    "    index_to_drop = series[series == 'nan'].index\n",
    "    # 최빈값\n",
    "    mode = series.value_counts().index[0]\n",
    "\n",
    "    for idx in index_to_drop:\n",
    "        series[idx] = mode\n",
    "        \n",
    "       \n",
    "    # 모든 요소를 문자열로 변환\n",
    "    mode = np.flip(series.value_counts().index.values)\n",
    "    # unique value 찾고 아스키코드 기준으로 sort\n",
    "    # my_dict을 통해 unique value에 대응하는 label 생성 \n",
    "    for idx, value in enumerate(mode):\n",
    "        my_dict[value] = idx\n",
    "    # my_dict의 index와 매치되는 series값을 my_dict의 value로 변환한다.\n",
    "    series = series.map(my_dict)\n",
    "\n",
    "    return series\n",
    "\n",
    "def same_word_detect(df, categorical_list):\n",
    "    for feature in categorical_list:\n",
    "        df[feature] = df[feature].str.lower()\n",
    "        # 특수문자를 대체 문자열 지정\n",
    "        replacement = {'/': '', \n",
    "                       '-':'', \n",
    "                       '_':'', \n",
    "                       ' ':'', \n",
    "                       '~':'',\n",
    "                       '&':'',\n",
    "                       '.':'',\n",
    "                       ',':''}\n",
    "        # replace() 함수를 사용하여 특수 문자 대체\n",
    "        df[feature].replace(replacement, inplace=True)\n",
    "    return df\n",
    "\n",
    "def model_train(train, test, model):\n",
    "    \n",
    "    \n",
    "    label_columns = [feature for feature in train.columns if train[feature].dtype=='O']\n",
    "    label_columns.append('customer_idx')\n",
    "    label_columns.append('lead_owner')\n",
    "\n",
    "    df_all = pd.concat([train[label_columns], test[label_columns]])\n",
    "    df_all = df_all.astype(str)\n",
    "    df_all = same_word_detect(df_all, label_columns)\n",
    "    temp = df_all\n",
    " \n",
    "    \n",
    "    # label encoding\n",
    "    for col in label_columns:\n",
    "        df_all[col] = label_encoding(df_all[col])\n",
    "    # test set 분리 \n",
    "    for col in label_columns:  \n",
    "        train[col] = df_all.iloc[: len(train)][col]\n",
    "        test[col] = df_all.iloc[len(train) :][col]\n",
    "\n",
    "    x_train, x_val, y_train, y_val = train_test_split(\n",
    "    train.drop(\"is_converted\", axis=1),\n",
    "    train[\"is_converted\"],\n",
    "    test_size=0.2,\n",
    "    stratify=train[\"is_converted\"],\n",
    "    shuffle=True,\n",
    "    random_state=42,)\n",
    "\n",
    "    model = model\n",
    "    model.fit(x_train.fillna(0), y_train)\n",
    "    pred = model.predict(x_val.fillna(0))\n",
    "    metrics = get_clf_eval(y_val, pred)\n",
    "    print(metrics)\n",
    "\n",
    "    ftr_importances_values = model.feature_importances_\n",
    "    ftr_importances = pd.Series(ftr_importances_values, index=x_train.columns)\n",
    "    ftr_top = ftr_importances.sort_values(ascending=False)[:20]\n",
    "    print(ftr_top[:5])\n",
    "    plt.figure(figsize=(8, 6))\n",
    "    sns.barplot(x=ftr_top, y=ftr_top.index)\n",
    "    plt.show()\n",
    "    return model, train"
   ]
  },
  {
   "cell_type": "code",
   "execution_count": 57,
   "metadata": {},
   "outputs": [
    {
     "name": "stdout",
     "output_type": "stream",
     "text": [
      "오차행렬:\n",
      " [[  699   271]\n",
      " [   29 10861]]\n",
      "\n",
      "정확도: 0.9747\n",
      "정밀도: 0.9602\n",
      "재현율: 0.7206\n",
      "F1: 0.8233\n",
      "None\n",
      "customer_idx        0.393003\n",
      "lead_owner          0.131678\n",
      "lead_desc_length    0.085407\n",
      "customer_country    0.078900\n",
      "customer_job        0.064107\n",
      "dtype: float64\n"
     ]
    },
    {
     "data": {
      "image/png": "[encoded data removed]",
      "text/plain": [
       "<Figure size 800x600 with 1 Axes>"
      ]
     },
     "metadata": {},
     "output_type": "display_data"
    }
   ],
   "source": [
    "from sklearn.ensemble import RandomForestClassifier\n",
    "\n",
    "train = pd.read_csv(train_path)\n",
    "test = pd.read_csv(test_path)\n",
    "feature_selection = [f for f in train.columns if train[f].isnull().sum()<30000 and f != 'customer_country.1']\n",
    "train = train[feature_selection]\n",
    "test = test[feature_selection]\n",
    "model = RandomForestClassifier()\n",
    "model, train = model_train(train, test, model )"
   ]
  },
  {
   "cell_type": "code",
   "execution_count": 43,
   "metadata": {},
   "outputs": [
    {
     "data": {
      "text/plain": [
       "array([ True,  True,  True, ..., False, False, False])"
      ]
     },
     "execution_count": 43,
     "metadata": {},
     "output_type": "execute_result"
    }
   ],
   "source": [
    "train['is_converted'].values"
   ]
  },
  {
   "cell_type": "code",
   "execution_count": 58,
   "metadata": {},
   "outputs": [
    {
     "data": {
      "text/plain": [
       "5271"
      ]
     },
     "execution_count": 58,
     "metadata": {},
     "output_type": "execute_result"
    }
   ],
   "source": [
    "len(test)"
   ]
  },
  {
   "cell_type": "code",
   "execution_count": null,
   "metadata": {},
   "outputs": [],
   "source": []
  }
 ],
 "metadata": {
  "kernelspec": {
   "display_name": "aimers",
   "language": "python",
   "name": "python3"
  },
  "language_info": {
   "codemirror_mode": {
    "name": "ipython",
    "version": 3
   },
   "file_extension": ".py",
   "mimetype": "text/x-python",
   "name": "python",
   "nbconvert_exporter": "python",
   "pygments_lexer": "ipython3",
   "version": "3.9.13"
  }
 },
 "nbformat": 4,
 "nbformat_minor": 2
}
