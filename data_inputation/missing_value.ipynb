{
 "cells": [
  {
   "cell_type": "code",
   "execution_count": 2,
   "metadata": {},
   "outputs": [],
   "source": [
    "# customer_country\t        object\t    982     국적 (범주형)\n",
    "# com_reg_ver_win_rate\t    float64\t    44731   oppty 비율 (범주형)\n",
    "# customer_type\t            object\t    43961   고객 유형 (범주형)\n",
    "# historical_existing_cnt\tfloat64\t    45543   이전에 Converted 횟수 (수치형)\n",
    "\n",
    "# id_strategic_ver\t        float64\t    55855   특정 사업부(Business Unit), 특정 사업 영역 가중치 (수치형)\n",
    "# it_strategic_ver\t        float64\t    58178\t특정 사업부(Business Unit), 특정 사업 영역 가중치 (수치형)\n",
    "# idit_strategic_ver\t    float64\t    54734   위에 2개의 Feature중에 1값을 하나라도 가지면 1 (범주형)\n",
    "# customer_job\t            object\t    18733   직업군 (범주형)\n",
    "# inquiry_type\t            object\t    941     고객의 문의 유형 (범주형)\n",
    "\n",
    "# product_category\t        object\t    19374   요청 제품 카테고리 (범주형)\n",
    "# product_subcategory\t    object\t    50064   요청 제품 하위 카테고리 (범주형)\n",
    "# product_modelname\t        object\t    50070   요정 제품 모델명 (범주형)\n",
    "# customer_country.1\t    object\t    982     지역정보 (범주형)\n",
    "# expected_timeline\t        object\t    30863   고객이 요청한 처리 일정 (수치형)\n",
    "\n",
    "# ver_win_rate_x\t        float64\t\t40882   전체 Lead 중에서 Vertical을 기준으로 Vertical 수 비율 (수치형)\n",
    "# ver_win_ratio_per_bu      float64\t    43995   특정 Vertical Level1의 Business Unit 별 샘플 수 대비 영업 (수치형)\n",
    "# business_area\t            object\t    40882\t고객의 사업 영역 (범주형)\n",
    "# business_subarea\t        object\t    53773\t세부 사업 영역 (범주형)"
   ]
  },
  {
   "cell_type": "code",
   "execution_count": 3,
   "metadata": {},
   "outputs": [
    {
     "name": "stderr",
     "output_type": "stream",
     "text": [
      "/tmp/ipykernel_223325/879617507.py:1: DeprecationWarning: \n",
      "Pyarrow will become a required dependency of pandas in the next major release of pandas (pandas 3.0),\n",
      "(to allow more performant data types, such as the Arrow string type, and better interoperability with other libraries)\n",
      "but was not found to be installed on your system.\n",
      "If this would cause problems for you,\n",
      "please provide us feedback at https://github.com/pandas-dev/pandas/issues/54466\n",
      "        \n",
      "  import pandas as pd\n"
     ]
    }
   ],
   "source": [
    "import pandas as pd \n",
    "\n",
    "data_path = \"/home/workspace/LGamiers/\"\n",
    "df_train = pd.read_csv(data_path + \"train.csv\") # 학습용 데이터\n",
    "df_test = pd.read_csv(data_path + \"submission.csv\")"
   ]
  },
  {
   "cell_type": "code",
   "execution_count": 4,
   "metadata": {},
   "outputs": [
    {
     "data": {
      "text/plain": [
       "59299"
      ]
     },
     "execution_count": 4,
     "metadata": {},
     "output_type": "execute_result"
    }
   ],
   "source": [
    "len(df_train)"
   ]
  },
  {
   "cell_type": "code",
   "execution_count": null,
   "metadata": {},
   "outputs": [],
   "source": []
  }
 ],
 "metadata": {
  "kernelspec": {
   "display_name": "aimers",
   "language": "python",
   "name": "python3"
  },
  "language_info": {
   "codemirror_mode": {
    "name": "ipython",
    "version": 3
   },
   "file_extension": ".py",
   "mimetype": "text/x-python",
   "name": "python",
   "nbconvert_exporter": "python",
   "pygments_lexer": "ipython3",
   "version": "3.9.13"
  }
 },
 "nbformat": 4,
 "nbformat_minor": 2
}
