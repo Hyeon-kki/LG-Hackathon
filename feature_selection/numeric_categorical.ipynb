{
 "cells": [
  {
   "cell_type": "code",
   "execution_count": 10,
   "metadata": {},
   "outputs": [],
   "source": [
    "import pandas as pd\n",
    "import numpy as np \n",
    "\n",
    "df = pd.read_csv('/home/workspace/LGamiers/train.csv')"
   ]
  },
  {
   "cell_type": "code",
   "execution_count": 26,
   "metadata": {},
   "outputs": [],
   "source": [
    "categorical = [feature for feature in df.columns if df[feature].dtype=='O']\n",
    "temp = [f for f in df.columns if f not in categorical]"
   ]
  },
  {
   "cell_type": "code",
   "execution_count": 29,
   "metadata": {},
   "outputs": [
    {
     "name": "stdout",
     "output_type": "stream",
     "text": [
      "['customer_country', 'business_unit', 'customer_type', 'enterprise', 'customer_job', 'inquiry_type', 'product_category', 'product_subcategory', 'product_modelname', 'customer_country.1', 'customer_position', 'response_corporate', 'expected_timeline', 'business_area', 'business_subarea']\n",
      "['bant_submit', 'com_reg_ver_win_rate', 'customer_idx', 'historical_existing_cnt', 'id_strategic_ver', 'it_strategic_ver', 'idit_strategic_ver', 'lead_desc_length', 'ver_cus', 'ver_pro', 'ver_win_rate_x', 'ver_win_ratio_per_bu', 'lead_owner', 'is_converted']\n"
     ]
    }
   ],
   "source": [
    "print(categorical)\n",
    "# 자료형이 수치형이지만 범주형인 것 확인\n",
    "print(temp)"
   ]
  },
  {
   "cell_type": "code",
   "execution_count": null,
   "metadata": {},
   "outputs": [],
   "source": [
    "[   'bant_submit', # 범주형 (이거 자체가 가중치를 준거 같다 0~1까지의 값으로) (고유값 4)\n",
    "    'com_reg_ver_win_rate', # 수치형\n",
    "    'customer_idx', # 범주형 (고유값 35112)\n",
    "    'historical_existing_cnt', # 수치형\n",
    "    'id_strategic_ver', # 범주형 (고유값 1)\n",
    "    'it_strategic_ver', # 범주형 (고유값 1)\n",
    "    'idit_strategic_ver', # 범주형 (고유값 2)\n",
    "    'lead_desc_length', # 수치형\n",
    "    'ver_cus', # 범주형 (고유값 2)\n",
    "    'ver_pro', # 범주형 (고유값 2)\n",
    "    'ver_win_rate_x', # 수치형\n",
    "    'ver_win_ratio_per_bu', # 수치형\n",
    "    'lead_owner', # 범주형 (고유값 35112)\n",
    "    'is_converted' # Label\n",
    "]"
   ]
  },
  {
   "cell_type": "code",
   "execution_count": 11,
   "metadata": {},
   "outputs": [
    {
     "name": "stdout",
     "output_type": "stream",
     "text": [
      "Not null categorical feature num: 4\n",
      "\n",
      "Not null categorical variables:\n",
      "\n",
      " ['business_unit', 'enterprise', 'customer_position', 'response_corporate']\n"
     ]
    }
   ],
   "source": [
    "notnull_feature = [feature for feature in df.columns if df[feature].isnull().sum() == 0] \n",
    "temp = df[notnull_feature]\n",
    "categorical = [var for var in temp.columns if df[var].dtype=='O']\n",
    "\n",
    "print('Not null categorical feature num: {}\\n'.format(len(categorical)))\n",
    "print('Not null categorical variables:\\n\\n', categorical)"
   ]
  },
  {
   "cell_type": "code",
   "execution_count": 21,
   "metadata": {},
   "outputs": [
    {
     "name": "stdout",
     "output_type": "stream",
     "text": [
      "business_unit \n",
      " 고유값 수:  5\n",
      "business_unit\n",
      "ID          0.431087\n",
      "AS          0.417781\n",
      "IT          0.146107\n",
      "Solution    0.004992\n",
      "CM          0.000034\n",
      "Name: count, dtype: float64 \n",
      "\n",
      "enterprise \n",
      " 고유값 수:  2\n",
      "enterprise\n",
      "Enterprise    0.637161\n",
      "SMB           0.362839\n",
      "Name: count, dtype: float64 \n",
      "\n",
      "customer_position \n",
      " 고유값 수:  117\n",
      "customer_position\n",
      "none                      0.331877\n",
      "manager                   0.138569\n",
      "ceo/founder               0.134640\n",
      "other                     0.109597\n",
      "director                  0.081671\n",
      "                            ...   \n",
      "chairman                  0.000017\n",
      "pgt physics               0.000017\n",
      "education professional    0.000017\n",
      "chemistry teacher         0.000017\n",
      "radiology professional    0.000017\n",
      "Name: count, Length: 117, dtype: float64 \n",
      "\n",
      "response_corporate \n",
      " 고유값 수:  53\n",
      "response_corporate\n",
      "LGEIL    0.285131\n",
      "LGESP    0.157018\n",
      "LGEUS    0.100423\n",
      "LGEMS    0.046679\n",
      "LGEPH    0.044706\n",
      "LGEGF    0.036240\n",
      "LGECB    0.035060\n",
      "LGEUK    0.027842\n",
      "LGESJ    0.024773\n",
      "LGECL    0.022580\n",
      "LGEPS    0.021113\n",
      "LGEIS    0.019326\n",
      "LGEPR    0.019073\n",
      "LGEDG    0.017724\n",
      "LGEPL    0.014334\n",
      "LGEEG    0.011872\n",
      "LGEVH    0.010354\n",
      "LGEES    0.009983\n",
      "LGETK    0.009123\n",
      "LGEAR    0.008280\n",
      "LGEKR    0.007302\n",
      "LGEHK    0.006459\n",
      "LGEAP    0.006172\n",
      "LGESL    0.005869\n",
      "LGEMK    0.005582\n",
      "LGEFS    0.005093\n",
      "LGEAF    0.004857\n",
      "LGEIN    0.004739\n",
      "LGELF    0.004621\n",
      "LGESA    0.004519\n",
      "LGECI    0.004435\n",
      "LGETH    0.003120\n",
      "LGEEF    0.002681\n",
      "LGEPT    0.001872\n",
      "LGEML    0.001855\n",
      "LGEBN    0.001670\n",
      "LGEYK    0.001315\n",
      "LGECH    0.001096\n",
      "LGEHS    0.000860\n",
      "LGETT    0.000793\n",
      "LGEJP    0.000691\n",
      "LGEAS    0.000557\n",
      "LGESW    0.000523\n",
      "LGEMC    0.000506\n",
      "LGERO    0.000489\n",
      "LGEEB    0.000219\n",
      "LGEAG    0.000135\n",
      "LGERA    0.000135\n",
      "LGECZ    0.000118\n",
      "LGELA    0.000034\n",
      "LGEUR    0.000017\n",
      "LGEIR    0.000017\n",
      "LGEBT    0.000017\n",
      "Name: count, dtype: float64 \n",
      "\n"
     ]
    }
   ],
   "source": [
    "\n",
    "for feature in categorical:\n",
    "    print(feature, '\\n', '고유값 수: ', str(df[feature].nunique()))\n",
    "    print(df[feature].value_counts()/(len(df)), '\\n')"
   ]
  },
  {
   "cell_type": "code",
   "execution_count": 22,
   "metadata": {},
   "outputs": [
    {
     "data": {
      "text/plain": [
       "customer_idx\n",
       "47466    7686\n",
       "25096    2421\n",
       "37680     367\n",
       "18030     331\n",
       "21321     162\n",
       "         ... \n",
       "39487       1\n",
       "41241       1\n",
       "39422       1\n",
       "22515       1\n",
       "30268       1\n",
       "Name: count, Length: 35112, dtype: int64"
      ]
     },
     "execution_count": 22,
     "metadata": {},
     "output_type": "execute_result"
    }
   ],
   "source": [
    "df['customer_idx'].value_counts()"
   ]
  },
  {
   "cell_type": "code",
   "execution_count": 23,
   "metadata": {},
   "outputs": [
    {
     "data": {
      "text/plain": [
       "35112"
      ]
     },
     "execution_count": 23,
     "metadata": {},
     "output_type": "execute_result"
    }
   ],
   "source": [
    "df['customer_idx'].nunique()"
   ]
  },
  {
   "cell_type": "code",
   "execution_count": null,
   "metadata": {},
   "outputs": [],
   "source": []
  }
 ],
 "metadata": {
  "kernelspec": {
   "display_name": "aimers",
   "language": "python",
   "name": "python3"
  },
  "language_info": {
   "codemirror_mode": {
    "name": "ipython",
    "version": 3
   },
   "file_extension": ".py",
   "mimetype": "text/x-python",
   "name": "python",
   "nbconvert_exporter": "python",
   "pygments_lexer": "ipython3",
   "version": "3.9.13"
  }
 },
 "nbformat": 4,
 "nbformat_minor": 2
}
