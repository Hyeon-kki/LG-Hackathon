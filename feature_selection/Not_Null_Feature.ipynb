{
 "cells": [
  {
   "cell_type": "markdown",
   "metadata": {},
   "source": [
    "## Train"
   ]
  },
  {
   "cell_type": "code",
   "execution_count": 42,
   "metadata": {},
   "outputs": [],
   "source": [
    "import pandas as pd\n",
    "import numpy as np\n",
    "from sklearn.metrics import (\n",
    "    accuracy_score,\n",
    "    confusion_matrix,\n",
    "    f1_score,\n",
    "    precision_score,\n",
    "    recall_score,\n",
    ")\n",
    "from sklearn.model_selection import train_test_split\n",
    "from sklearn.tree import DecisionTreeClassifier\n",
    "import random\n",
    "import os\n",
    "\n",
    "from preprocess import preprocess\n",
    "\n",
    "import warnings\n",
    "\n",
    "# 모든 경고 무시\n",
    "warnings.filterwarnings(\"ignore\")\n",
    "\n",
    "def label_encoding(series):\n",
    "    # \"\"\"범주형 데이터를 시리즈 형태로 받아 숫자형 데이터로 변환합니다.\"\"\"\n",
    "\n",
    "    my_dict = {}\n",
    "\n",
    "    # 모든 요소를 문자열로 변환\n",
    "    series = series.astype(str)\n",
    "    # unique value 찾고 아스키코드 기준으로 sort\n",
    "    # my_dict을 통해 unique value에 대응하는 label 생성 \n",
    "    for idx, value in enumerate(sorted(series.unique())):\n",
    "        my_dict[value] = idx\n",
    "    # my_dict의 index와 매치되는 series값을 my_dict의 value로 변환한다.\n",
    "    series = series.map(my_dict)\n",
    "\n",
    "    return series\n",
    "\n",
    "def get_clf_eval(y_test, y_pred=None):\n",
    "\n",
    "    from sklearn.metrics import (\n",
    "    accuracy_score,\n",
    "    confusion_matrix,\n",
    "    f1_score,\n",
    "    precision_score,\n",
    "    recall_score,)\n",
    "\n",
    "    confusion = confusion_matrix(y_test, y_pred, labels=[True, False])\n",
    "    accuracy = accuracy_score(y_test, y_pred)\n",
    "    precision = precision_score(y_test, y_pred, labels=[True, False])\n",
    "    recall = recall_score(y_test, y_pred)\n",
    "    F1 = f1_score(y_test, y_pred, labels=[True, False])\n",
    "\n",
    "    print(\"오차행렬:\\n\", confusion)\n",
    "    print(\"\\n정확도: {:.4f}\".format(accuracy))\n",
    "    print(\"정밀도: {:.4f}\".format(precision))\n",
    "    print(\"재현율: {:.4f}\".format(recall))\n",
    "    print(\"F1: {:.4f}\".format(F1))\n",
    "\n",
    "def seed_everything(seed=42):\n",
    "    random.seed(seed)\n",
    "    os.environ[\"PYTHONHASHSEED\"] = str(seed)\n",
    "    np.random.seed(seed)\n",
    "    \n",
    "seed_everything()\n",
    "\n",
    "# 데이터 불러오기\n",
    "\n",
    "data_path = \"/home/workspace/LGamiers/\"\n",
    "df_train = pd.read_csv(data_path + \"train.csv\") # 학습용 데이터\n",
    "df_test = pd.read_csv(data_path + \"submission.csv\")"
   ]
  },
  {
   "cell_type": "code",
   "execution_count": 43,
   "metadata": {},
   "outputs": [],
   "source": [
    "# 레이블 인코딩할 칼럼들\n",
    "label_columns = [\n",
    "    \"customer_country\",\n",
    "    \"business_subarea\",\n",
    "    \"business_area\",\n",
    "    \"business_unit\",\n",
    "    \"customer_type\",\n",
    "    \"enterprise\",\n",
    "    \"customer_job\",\n",
    "    \"inquiry_type\",\n",
    "    \"product_category\",\n",
    "    \"product_subcategory\",\n",
    "    \"product_modelname\",\n",
    "    \"customer_country.1\",\n",
    "    \"customer_position\",\n",
    "    \"response_corporate\",\n",
    "    \"expected_timeline\",\n",
    "]\n",
    "df_all = pd.concat([df_train[label_columns], df_test[label_columns]])\n",
    "\n",
    "# label encoding\n",
    "for col in label_columns:\n",
    "    df_all[col] = label_encoding(df_all[col])\n",
    "\n",
    "\n",
    "# test set 분리 \n",
    "for col in label_columns:  \n",
    "    df_train[col] = df_all.iloc[: len(df_train)][col]\n",
    "    df_test[col] = df_all.iloc[len(df_train) :][col]"
   ]
  },
  {
   "cell_type": "code",
   "execution_count": 44,
   "metadata": {},
   "outputs": [],
   "source": [
    "x_train, x_val, y_train, y_val = train_test_split(\n",
    "    df_train.drop(\"is_converted\", axis=1),\n",
    "    df_train[\"is_converted\"],\n",
    "    test_size=0.2,\n",
    "    shuffle=True,\n",
    "    random_state=42,)"
   ]
  },
  {
   "cell_type": "markdown",
   "metadata": {},
   "source": [
    "## Evaluation"
   ]
  },
  {
   "cell_type": "code",
   "execution_count": 47,
   "metadata": {},
   "outputs": [
    {
     "name": "stdout",
     "output_type": "stream",
     "text": [
      "['bant_submit', 'customer_country', 'business_unit', 'customer_idx', 'customer_type', 'enterprise', 'customer_job', 'lead_desc_length', 'inquiry_type', 'product_category', 'product_subcategory', 'product_modelname', 'customer_country.1', 'customer_position', 'response_corporate', 'expected_timeline', 'ver_cus', 'ver_pro', 'business_area', 'business_subarea', 'lead_owner']\n",
      "오차행렬:\n",
      " [[  751   234]\n",
      " [  230 10645]]\n",
      "\n",
      "정확도: 0.9609\n",
      "정밀도: 0.7655\n",
      "재현율: 0.7624\n",
      "F1: 0.7640\n"
     ]
    }
   ],
   "source": [
    "# feature select (null 값이 하나라도 있으면 다지움)\n",
    "not_null_feature = [f for f in df_train.columns if df_train[f].isnull().sum() == 0 and f != 'is_converted']\n",
    "print(not_null_feature)\n",
    "model = DecisionTreeClassifier(random_state=42)\n",
    "model.fit(x_train[not_null_feature].fillna(0), y_train)\n",
    "pred = model.predict(x_val[not_null_feature].fillna(0))\n",
    "get_clf_eval(y_val, pred)"
   ]
  },
  {
   "cell_type": "code",
   "execution_count": null,
   "metadata": {},
   "outputs": [],
   "source": []
  }
 ],
 "metadata": {
  "kernelspec": {
   "display_name": "aimers",
   "language": "python",
   "name": "python3"
  },
  "language_info": {
   "codemirror_mode": {
    "name": "ipython",
    "version": 3
   },
   "file_extension": ".py",
   "mimetype": "text/x-python",
   "name": "python",
   "nbconvert_exporter": "python",
   "pygments_lexer": "ipython3",
   "version": "3.9.13"
  }
 },
 "nbformat": 4,
 "nbformat_minor": 2
}
